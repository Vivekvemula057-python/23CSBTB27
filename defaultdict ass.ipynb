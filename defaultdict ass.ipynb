{
  "nbformat": 4,
  "nbformat_minor": 0,
  "metadata": {
    "colab": {
      "provenance": [],
      "authorship_tag": "ABX9TyOft/gb3IALeqBU40Da5Jqx",
      "include_colab_link": true
    },
    "kernelspec": {
      "name": "python3",
      "display_name": "Python 3"
    },
    "language_info": {
      "name": "python"
    }
  },
  "cells": [
    {
      "cell_type": "markdown",
      "metadata": {
        "id": "view-in-github",
        "colab_type": "text"
      },
      "source": [
        "<a href=\"https://colab.research.google.com/github/Vivekvemula057-python/23CSBTB27/blob/main/defaultdict%20ass.ipynb\" target=\"_parent\"><img src=\"https://colab.research.google.com/assets/colab-badge.svg\" alt=\"Open In Colab\"/></a>"
      ]
    },
    {
      "cell_type": "code",
      "execution_count": 1,
      "metadata": {
        "id": "tvjyOWpqzHaD"
      },
      "outputs": [],
      "source": [
        "from collections import defaultdict\n",
        "class Board(defaultdict):\n",
        "  empty = '.'\n",
        "  off = '#'\n",
        "  def __init__(self, width =8, height =8, to_move =None , **kwds):\n",
        "    self.__dict__.update(width=width , height=height , to_move = to_move , **kwds)\n",
        "    def new(self, changes: dict , **kwds) -> 'Board':\n",
        "      board = Board(width=self.width , height=self.height , **kwds)\n",
        "      board.update(self)\n",
        "      board.update(changes)\n",
        "      return board\n",
        "    def __missing__(self, loc):\n",
        "      x, y = loc\n",
        "      if 0 <= x < self.width and 0 <= y < self.height:\n",
        "        return self.empty\n",
        "      else:\n",
        "        return self.off\n",
        "    def __hash__(self):\n",
        "      return hash(tuple(sorted(self.items()))) + hash(self.to_move)\n",
        "    def __repr__(self):\n",
        "      def row(y): return ' '.join(self[x, y] for x in range(self.width))\n",
        "      return '\\n'.join(map(row , range(self.height ))) + '\\n'"
      ]
    }
  ]
}