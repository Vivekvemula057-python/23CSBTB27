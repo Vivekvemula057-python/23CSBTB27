{
  "nbformat": 4,
  "nbformat_minor": 0,
  "metadata": {
    "colab": {
      "provenance": [],
      "authorship_tag": "ABX9TyOZbMLQvO3YpJxd5rxmI4be",
      "include_colab_link": true
    },
    "kernelspec": {
      "name": "python3",
      "display_name": "Python 3"
    },
    "language_info": {
      "name": "python"
    }
  },
  "cells": [
    {
      "cell_type": "markdown",
      "metadata": {
        "id": "view-in-github",
        "colab_type": "text"
      },
      "source": [
        "<a href=\"https://colab.research.google.com/github/Vivekvemula057-python/23CSBTB27/blob/main/Untitled1.ipynb\" target=\"_parent\"><img src=\"https://colab.research.google.com/assets/colab-badge.svg\" alt=\"Open In Colab\"/></a>"
      ]
    },
    {
      "cell_type": "code",
      "execution_count": 1,
      "metadata": {
        "colab": {
          "base_uri": "https://localhost:8080/"
        },
        "id": "fIL9dYyfkq_S",
        "outputId": "7a12491a-be1b-475d-ef56-4f96b2dc9521"
      },
      "outputs": [
        {
          "output_type": "stream",
          "name": "stdout",
          "text": [
            "{1, 2, 5, 6, 7}\n",
            "{8, 1, 3, 6}\n"
          ]
        }
      ],
      "source": [
        "import numpy as np\n",
        "list={1,5,2,6,7}\n",
        "list1={3,6,1,8}\n",
        "print(list)\n",
        "print(list1)"
      ]
    },
    {
      "cell_type": "code",
      "source": [
        "List = [\"Greek\",\"For\",\"Greeks\"]\n",
        "List2=\"my first lab\"\n",
        "List3=4.3\n",
        "List4=2j+6\n",
        "List5='My First Lab'\n",
        "print(type(List2))\n",
        "print(type(List3))\n",
        "print(type(List4))\n",
        "print(type(List5))\n",
        "print(\"\\nList Items:\")\n",
        "print(List)\n",
        "print(type(List))\n",
        "print(List[0])"
      ],
      "metadata": {
        "colab": {
          "base_uri": "https://localhost:8080/"
        },
        "id": "iyfyCSD5lgMM",
        "outputId": "fbf073f5-04cd-434f-e266-f08c7547b334"
      },
      "execution_count": 3,
      "outputs": [
        {
          "output_type": "stream",
          "name": "stdout",
          "text": [
            "<class 'str'>\n",
            "<class 'float'>\n",
            "<class 'complex'>\n",
            "<class 'str'>\n",
            "\n",
            "List Items:\n",
            "['Greek', 'For', 'Greeks']\n",
            "<class 'list'>\n",
            "Greek\n"
          ]
        }
      ]
    },
    {
      "cell_type": "code",
      "source": [
        "List={1:\"Greek1\",2:'greeks','for':3,'Greek':6}\n",
        "print(\"\\nList with the use of Mixed Values:\")\n",
        "print(List)\n",
        "print(type(List))"
      ],
      "metadata": {
        "colab": {
          "base_uri": "https://localhost:8080/"
        },
        "id": "LQl6i5Osn3El",
        "outputId": "637f730c-8658-415b-f2a7-51670b11f866"
      },
      "execution_count": 7,
      "outputs": [
        {
          "output_type": "stream",
          "name": "stdout",
          "text": [
            "\n",
            "List with the use of Mixed Values:\n",
            "{1: 'Greek1', 2: 'greeks', 'for': 3, 'Greek': 6}\n",
            "<class 'dict'>\n"
          ]
        }
      ]
    }
  ]
}